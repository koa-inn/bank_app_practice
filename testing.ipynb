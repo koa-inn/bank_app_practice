{
 "cells": [
  {
   "cell_type": "code",
   "execution_count": 3,
   "metadata": {},
   "outputs": [],
   "source": [
    "from typing import List\n",
    "import datetime\n",
    "\n",
    "\n",
    "\n",
    "###\n",
    "\n",
    "class Account():\n",
    "    account_instances = []\n",
    "    def __init__(self, acc_type: str, acc_number: int, holder, holder_name: str, balance: float, transaction_history: List[tuple]):\n",
    "        Account.account_instances.append(self) ## to record instances of each account\n",
    "        self.acc_type = acc_type\n",
    "        self.__acc_number = acc_number\n",
    "        self.holder = holder\n",
    "        self.holder_name = holder_name\n",
    "        self.balance = balance\n",
    "        self.transaction_history = transaction_history\n",
    "\n",
    "    def make_deposit(self, amount: float):\n",
    "        assert amount > 0\n",
    "        self.balance += amount\n",
    "        self.holder.accounts[self.acc_type] = self.balance\n",
    "        dt_of_deposit = datetime.datetime.now()\n",
    "        self.transaction_history.append((dt_of_deposit.strftime(\"%d/%b/%Y %H:%M:%S\"), 'deposit',amount))\n",
    "\n",
    "    def make_withdrawl(self, amount: float):\n",
    "        assert amount > 0 and amount <= self.balance\n",
    "        self.balance -= amount\n",
    "        self.holder.accounts[self.acc_type] = self.balance\n",
    "        dt_of_withdrawl = datetime.datetime.now()\n",
    "        self.transaction_history.append((dt_of_withdrawl.strftime(\"%d/%b/%Y %H:%M:%S\"), 'withdrawl', -amount))\n",
    "\n",
    "    def get_history(self):\n",
    "        return self.transaction_history\n",
    "\n",
    "    def get_balance(self):\n",
    "        return self.balance\n",
    "    \n",
    "    def get_acc_type(self):\n",
    "        return self.acc_type\n",
    "    \n",
    "    def get_holder_name(self):\n",
    "        return self.holder_name\n",
    "    \n",
    "    def get_acc_number(self):\n",
    "        return self.__acc_number\n",
    "    \n",
    "    def get_summary(self):\n",
    "        return self.__dict__\n",
    "\n",
    "\n",
    "class Holder():\n",
    "    holder_instances = []\n",
    "    def __init__(self, name: str):\n",
    "        Holder.holder_instances.append(self)\n",
    "        self.name = name\n",
    "        self.accounts = []\n",
    "\n",
    "    def display_info(self):\n",
    "        print(\"=========================\")\n",
    "        print(f\"Name: {self.name}\")\n",
    "        for account in self.accounts:\n",
    "            print(f\"{account.get_acc_type()}: {account.get_balance()}\")\n",
    "\n",
    "    def account_select(self)->Account:\n",
    "        \"\"\" Prompts user to select one of their account or chooses their only account if there is only 1. Returns the selected account object. \"\"\"\n",
    "        num_accounts: int = len(self.accounts)\n",
    "        if num_accounts > 1:\n",
    "                options = {}\n",
    "                for idx in range(num_accounts):\n",
    "                    options[idx+1] = self.accounts[idx]\n",
    "                #print(options)\n",
    "                print(\"-----------------------------\")\n",
    "                print(\"Please select which account you would like to select:\")\n",
    "                while True:\n",
    "                    for option, account in options.items():\n",
    "                        print(f\"{option} : {account.get_acc_type()}, Balance: ${account.get_balance()}\")\n",
    "                    print(f\"{num_accounts+1} : to exit\")\n",
    "                    \n",
    "                    user_input = input()\n",
    "                    try: \n",
    "                        assert int(user_input)-1 in range(num_accounts+1)\n",
    "                        user_input = int(user_input)\n",
    "                        print(user_input)\n",
    "                        if user_input == (num_accounts + 1):\n",
    "                            return None\n",
    "                        else:\n",
    "                            selected_acc = options[user_input]\n",
    "                            return selected_acc\n",
    "                    except: \n",
    "                        print(\"Please only enter a valid option.\")\n",
    "        elif num_accounts == 1:\n",
    "            return self.accounts[0]\n",
    "        else:\n",
    "            return\n",
    "\n",
    "\n",
    "###\n",
    "\n",
    "def create_account(new_holder: Holder) -> Account:\n",
    "    \"\"\" Creates an account object for inputed Holder. Prompts user for type of account to open. \"\"\"\n",
    "    account_num: int = len(Account.account_instances) + 1\n",
    "    \n",
    "    chosen_type: int = int(input(\"Please enter 1 to open a checking account or 2 to open a savings account:\"))\n",
    "    while True:\n",
    "        if chosen_type == 1:\n",
    "            chosen_type_str: str = \"checking\"\n",
    "            break\n",
    "        elif chosen_type == 2:\n",
    "            chosen_type_str: str = \"savings\"\n",
    "            break\n",
    "        else:\n",
    "            print(\"Please only enter a 1 or 2.\")\n",
    "        chosen_type: int = int(input(\"Please enter 1 to open a checking account or 2 to open a savings account:\"))\n",
    "    \n",
    "    starting_balance: float = 0.0\n",
    "    \n",
    "    new_account = Account(acc_type = chosen_type_str, \n",
    "                            acc_number = account_num, \n",
    "                            holder = new_holder,\n",
    "                            holder_name = new_holder.name,\n",
    "                            balance = starting_balance,\n",
    "                            transaction_history = [])\n",
    "    new_holder.accounts.append(new_account)\n",
    "    print(f\"You have succesfully opened a new {new_account.get_acc_type()} account.\")\n",
    "    return new_account\n",
    "    \n",
    "\n",
    "def initialize():\n",
    "    user: str = input(\"Please enter your name: \")\n",
    "    for _holder in Holder.holder_instances:\n",
    "        if user == _holder.name:\n",
    "            return _holder\n",
    "    new_holder = Holder(user)\n",
    "    return new_holder\n",
    "\n",
    "\n",
    "def menu(holder):\n",
    "    print(\"=============================\")\n",
    "    print(\"|         MAIN MENU         |\")\n",
    "    print(\"-----------------------------\")\n",
    "    #print(\"Please enter:\\n1 : to open an account\\n2 : to check balances\\n3 : to make a deposit\\n4 : to make a withdrawl\")\n",
    "    #print(\"5 : to check transaction history\\n6 : to exit program\\n\")\n",
    "    print(f\"Welcome {holder.name}!\")\n",
    "    while True:\n",
    "        print(\"-----------------------------\")\n",
    "        print(\"Please enter:\\n1 : to open an account\\n2 : to check balances\\n3 : to make a deposit\\n4 : to make a withdrawl\")\n",
    "        print(\"5 : to check transaction history\\n6 : to exit program\\n\")\n",
    "        while True:\n",
    "            user_input = input()\n",
    "            try:\n",
    "                user_input = int(user_input)\n",
    "            except:\n",
    "                print(\"Please only select one of the valid options\")\n",
    "            try: \n",
    "                assert user_input in [1,2,3,4,5,6]\n",
    "            except:    \n",
    "                print(\"Please only select one of the valid options\")\n",
    "            else:\n",
    "                break\n",
    "        if user_input == 1:  #create account\n",
    "            create_account(holder)\n",
    "\n",
    "        elif user_input == 2: #balances\n",
    "            print(\"-----------------------------\\nBalances:\")\n",
    "            for account in holder.accounts:\n",
    "                print(F\"{account.get_acc_type()}: ${account.get_balance()}\")\n",
    "\n",
    "        elif user_input == 3: #deposit\n",
    "            num_accounts = len(holder.accounts)\n",
    "            acc_choice = holder.account_select()\n",
    "            if acc_choice == None:\n",
    "                print(\"No account selected or available\")\n",
    "                break\n",
    "            else:\n",
    "                print(f\"How much would you like to deposit in {acc_choice.get_acc_type()}?: \")\n",
    "                while True:\n",
    "                    try: \n",
    "                        amt = float(input())\n",
    "                        acc_choice.make_deposit(amt)\n",
    "                        continue\n",
    "                    except:\n",
    "                        print(\"Please enter a valid amount.\")\n",
    "                    \n",
    "\n",
    "        elif user_input == 4: #withdraw\n",
    "            num_accounts = len(holder.accounts)\n",
    "            pass\n",
    "        elif user_input == 5: #transaction history\n",
    "            num_accounts = len(holder.accounts)\n",
    "            pass\n",
    "        else:\n",
    "            print(\"-----------------------------\")\n",
    "            print(\"Thank you for using our services!\")\n",
    "            return\n",
    "\n"
   ]
  },
  {
   "cell_type": "code",
   "execution_count": null,
   "metadata": {},
   "outputs": [
    {
     "name": "stdout",
     "output_type": "stream",
     "text": [
      "=============================\n",
      "|         MAIN MENU         |\n",
      "-----------------------------\n",
      "Welcome Koa!\n",
      "-----------------------------\n",
      "Please enter:\n",
      "1 : to open an account\n",
      "2 : to check balances\n",
      "3 : to make a deposit\n",
      "4 : to make a withdrawl\n",
      "5 : to check transaction history\n",
      "6 : to exit program\n",
      "\n",
      "You have succesfully opened a new checking account.\n",
      "-----------------------------\n",
      "Please enter:\n",
      "1 : to open an account\n",
      "2 : to check balances\n",
      "3 : to make a deposit\n",
      "4 : to make a withdrawl\n",
      "5 : to check transaction history\n",
      "6 : to exit program\n",
      "\n",
      "-----------------------------\n",
      "Balances:\n",
      "checking: $0.0\n",
      "-----------------------------\n",
      "Please enter:\n",
      "1 : to open an account\n",
      "2 : to check balances\n",
      "3 : to make a deposit\n",
      "4 : to make a withdrawl\n",
      "5 : to check transaction history\n",
      "6 : to exit program\n",
      "\n",
      "Please only select one of the valid options\n",
      "Please only select one of the valid options\n",
      "You have succesfully opened a new savings account.\n",
      "-----------------------------\n",
      "Please enter:\n",
      "1 : to open an account\n",
      "2 : to check balances\n",
      "3 : to make a deposit\n",
      "4 : to make a withdrawl\n",
      "5 : to check transaction history\n",
      "6 : to exit program\n",
      "\n",
      "-----------------------------\n",
      "Please select which account you would like to select:\n",
      "1 : checking, Balance: $0.0\n",
      "2 : savings, Balance: $0.0\n",
      "3 : to exit\n",
      "1\n",
      "How much would you like to deposit in checking?: \n",
      "Please enter a valid amount.\n",
      "Please enter a valid amount.\n",
      "Please enter a valid amount.\n"
     ]
    }
   ],
   "source": [
    "def main():\n",
    "\n",
    "    user = initialize()\n",
    "    menu(user)\n",
    "\n",
    "\n",
    "main()"
   ]
  },
  {
   "cell_type": "code",
   "execution_count": 70,
   "metadata": {},
   "outputs": [
    {
     "name": "stdout",
     "output_type": "stream",
     "text": [
      "-----------------------------\n",
      "Please select which account you would like to deposit in:\n",
      "1 : checking, Balance: $0.0\n",
      "2 : savings, Balance: $0.0\n",
      "3 : to exit\n",
      "2\n",
      "Here!!!! <__main__.Account object at 0x107886600>\n"
     ]
    },
    {
     "data": {
      "text/plain": [
       "<__main__.Account at 0x107886600>"
      ]
     },
     "execution_count": 70,
     "metadata": {},
     "output_type": "execute_result"
    }
   ],
   "source": [
    "holder1 = Holder(\"Koa\")\n",
    "holder2 = Holder(\"Bill\")\n",
    "\n",
    "acc1 = create_account(holder1)\n",
    "acc2 = create_account(holder1)\n",
    "\n",
    "holder1.account_select()\n",
    "\n"
   ]
  },
  {
   "cell_type": "code",
   "execution_count": 4,
   "metadata": {},
   "outputs": [
    {
     "name": "stdout",
     "output_type": "stream",
     "text": [
      "[('06/Nov/2024 15:20:58', 'deposit', 50.5), ('06/Nov/2024 15:20:58', 'withdrawl', -20)]\n"
     ]
    }
   ],
   "source": [
    "acc1.make_deposit((50.5))\n",
    "acc1.make_withdrawl(20)\n",
    "\n",
    "print(acc1.transaction_history)\n"
   ]
  },
  {
   "cell_type": "code",
   "execution_count": 8,
   "metadata": {},
   "outputs": [
    {
     "data": {
      "text/plain": [
       "{'acc_type': 'checking',\n",
       " '_Account__acc_number': 2,\n",
       " 'holder': <__main__.Holder at 0x111c554f0>,\n",
       " 'holder_name': 'Bill',\n",
       " 'balance': 0.0,\n",
       " 'transaction_history': []}"
      ]
     },
     "execution_count": 8,
     "metadata": {},
     "output_type": "execute_result"
    }
   ],
   "source": [
    "acc2.get_summary()"
   ]
  },
  {
   "cell_type": "code",
   "execution_count": 7,
   "metadata": {},
   "outputs": [
    {
     "name": "stdout",
     "output_type": "stream",
     "text": [
      "=========================\n",
      "Name: Bill\n",
      "savings: 0.0\n"
     ]
    }
   ],
   "source": [
    "holder2.display_info()"
   ]
  },
  {
   "cell_type": "code",
   "execution_count": 6,
   "metadata": {},
   "outputs": [
    {
     "data": {
      "text/plain": [
       "{'checking': 30.5}"
      ]
     },
     "execution_count": 6,
     "metadata": {},
     "output_type": "execute_result"
    }
   ],
   "source": [
    "holder1.accounts"
   ]
  },
  {
   "cell_type": "code",
   "execution_count": 28,
   "metadata": {},
   "outputs": [
    {
     "name": "stdout",
     "output_type": "stream",
     "text": [
      "=============================\n",
      "|         MAIN MENU         |\n",
      "-----------------------------\n",
      "Please enter:\n",
      "1 : to open an account\n",
      "2 : to check balances\n",
      "3 : to make a deposit\n",
      "4 : to make a withdrawl\n",
      "5 : to check transaction history\n",
      "6 : to exit program\n",
      "\n",
      "Please only enter one of the options (1, 2, 3, 4, 5 or 6.)\n",
      "Please only enter one of the options (1, 2, 3, 4, 5 or 6.)\n",
      "Please only enter one of the options (1, 2, 3, 4, 5 or 6.)\n",
      "Please only enter one of the options (1, 2, 3, 4, 5 or 6.)\n",
      "-----------------------------\n",
      "Thank you for using our services!\n"
     ]
    }
   ],
   "source": [
    "menu()"
   ]
  },
  {
   "cell_type": "code",
   "execution_count": null,
   "metadata": {},
   "outputs": [
    {
     "ename": "TypeError",
     "evalue": "can only concatenate list (not \"int\") to list",
     "output_type": "error",
     "traceback": [
      "\u001b[0;31m---------------------------------------------------------------------------\u001b[0m",
      "\u001b[0;31mTypeError\u001b[0m                                 Traceback (most recent call last)",
      "Cell \u001b[0;32mIn[9], line 1\u001b[0m\n\u001b[0;32m----> 1\u001b[0m test \u001b[38;5;241m=\u001b[39m \u001b[43m[\u001b[49m\u001b[38;5;241;43m1\u001b[39;49m\u001b[43m,\u001b[49m\u001b[38;5;241;43m2\u001b[39;49m\u001b[43m,\u001b[49m\u001b[38;5;241;43m3\u001b[39;49m\u001b[43m,\u001b[49m\u001b[38;5;241;43m4\u001b[39;49m\u001b[43m,\u001b[49m\u001b[38;5;241;43m5\u001b[39;49m\u001b[43m]\u001b[49m\u001b[38;5;241;43m+\u001b[39;49m\u001b[38;5;241;43m1\u001b[39;49m\n",
      "\u001b[0;31mTypeError\u001b[0m: can only concatenate list (not \"int\") to list"
     ]
    }
   ],
   "source": [
    "test = [1,2,3,4,5]"
   ]
  },
  {
   "cell_type": "code",
   "execution_count": null,
   "metadata": {},
   "outputs": [],
   "source": []
  }
 ],
 "metadata": {
  "kernelspec": {
   "display_name": ".venv",
   "language": "python",
   "name": "python3"
  },
  "language_info": {
   "codemirror_mode": {
    "name": "ipython",
    "version": 3
   },
   "file_extension": ".py",
   "mimetype": "text/x-python",
   "name": "python",
   "nbconvert_exporter": "python",
   "pygments_lexer": "ipython3",
   "version": "3.12.7"
  }
 },
 "nbformat": 4,
 "nbformat_minor": 2
}
